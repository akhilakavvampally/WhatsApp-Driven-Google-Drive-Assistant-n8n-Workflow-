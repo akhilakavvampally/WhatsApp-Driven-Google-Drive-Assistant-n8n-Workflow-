{
  "nbformat": 4,
  "nbformat_minor": 0,
  "metadata": {
    "colab": {
      "provenance": []
    },
    "kernelspec": {
      "name": "python3",
      "display_name": "Python 3"
    },
    "language_info": {
      "name": "python"
    }
  },
  "cells": [
    {
      "cell_type": "code",
      "execution_count": null,
      "metadata": {
        "id": "O_GOWBnX9hKm"
      },
      "outputs": [],
      "source": []
    },
    {
      "cell_type": "code",
      "execution_count": null,
      "metadata": {
        "id": "LmZVqrR08Myi"
      },
      "outputs": [],
      "source": [
        "# STEP 1: Install required packages\n",
        "!pip install --quiet openai google-auth google-auth-oauthlib google-auth-httplib2 google-api-python-client PyMuPDF python-docx\n",
        "\n",
        "# STEP 2: Authenticate Google Drive\n",
        "from google.colab import auth\n",
        "auth.authenticate_user()\n",
        "\n",
        "from googleapiclient.discovery import build\n",
        "from googleapiclient.http import MediaIoBaseDownload\n",
        "import io\n",
        "\n",
        "drive_service = build('drive', 'v3')\n",
        "\n",
        "# STEP 3: List files in a folder\n",
        "def list_files(folder_id):\n",
        "    query = f\"'{folder_id}' in parents and trashed = false\"\n",
        "    results = drive_service.files().list(q=query, fields=\"files(id, name, mimeType)\").execute()\n",
        "    return results.get('files', [])\n",
        "\n",
        "# STEP 4: Download and read file content\n",
        "def download_file(file_id, mime_type):\n",
        "    request = drive_service.files().get_media(fileId=file_id)\n",
        "    file_data = io.BytesIO()\n",
        "    downloader = MediaIoBaseDownload(file_data, request)\n",
        "    done = False\n",
        "    while not done:\n",
        "        status, done = downloader.next_chunk()\n",
        "    file_data.seek(0)\n",
        "\n",
        "    if mime_type == 'application/pdf':\n",
        "        import fitz  # PyMuPDF\n",
        "        doc = fitz.open(stream=file_data.read(), filetype='pdf')\n",
        "        text = \"\\n\".join([page.get_text() for page in doc])\n",
        "        return text\n",
        "    elif mime_type == 'application/vnd.openxmlformats-officedocument.wordprocessingml.document':\n",
        "        from docx import Document\n",
        "        doc = Document(file_data)\n",
        "        return \"\\n\".join([p.text for p in doc.paragraphs])\n",
        "    elif mime_type.startswith('text/'):\n",
        "        return file_data.read().decode()\n",
        "    else:\n",
        "        return None\n",
        "\n",
        "# STEP 5: Summarize using OpenAI GPT\n",
        "import openai\n",
        "from google.colab import userdata\n",
        "\n",
        "openai.api_key = userdata.get('OPENAI_API_KEY')\n",
        "\n",
        "def summarize_text(text):\n",
        "    prompt = f\"Summarize the following content into bullet points:\\n\\n{text[:3000]}\"  # Truncate to fit prompt limits\n",
        "    response = openai.ChatCompletion.create(\n",
        "        model=\"gpt-4o\",\n",
        "        messages=[{\"role\": \"user\", \"content\": prompt}],\n",
        "        temperature=0.5,\n",
        "    )\n",
        "    return response.choices[0].message.content.strip()\n",
        "\n",
        "# TEST — replace with your folder ID\n",
        "folder_id = 'YOUR_FOLDER_ID_HERE' # Replace with your actual folder ID from Google Drive\n",
        "files = list_files(folder_id)\n",
        "for f in files:\n",
        "    print(f\"\\n📄 {f['name']} ({f['mimeType']})\")\n",
        "    content = download_file(f['id'], f['mimeType'])\n",
        "    if content:\n",
        "        summary = summarize_text(content)\n",
        "        print(\"🔍 Summary:\\n\", summary)"
      ]
    }
  ]
}